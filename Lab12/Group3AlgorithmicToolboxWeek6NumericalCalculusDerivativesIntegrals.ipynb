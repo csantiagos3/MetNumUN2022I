{
  "cells": [
    {
      "cell_type": "markdown",
      "metadata": {
        "id": "view-in-github",
        "colab_type": "text"
      },
      "source": [
        "<a href=\"https://colab.research.google.com/github/maromana/MetNumUN2022I/blob/main/Lab12/Group3AlgorithmicToolboxWeek6NumericalCalculusDerivativesIntegrals.ipynb\" target=\"_parent\"><img src=\"https://colab.research.google.com/assets/colab-badge.svg\" alt=\"Open In Colab\"/></a>"
      ]
    },
    {
      "cell_type": "markdown",
      "metadata": {
        "id": "UgXmBzcBoIfd"
      },
      "source": [
        "# Part I. One-sided finite differences"
      ]
    },
    {
      "cell_type": "markdown",
      "metadata": {
        "id": "aN7BWLuboIfq"
      },
      "source": [
        "Write a function, `deriv`, which computes a derivative of its argument at a given point, $x$, using a one-sided finite difference rule with a given step side $h$, with the approximation order of $O(h^2)$. "
      ]
    },
    {
      "cell_type": "code",
      "execution_count": null,
      "metadata": {
        "collapsed": true,
        "id": "JIKzq2CYoIfu"
      },
      "outputs": [],
      "source": [
        "def deriv(f, x, h):\n",
        "    \"\"\" Compute a derivative of `f` at point `x` with step size `h`.\n",
        "    \n",
        "    Compute the derivative using the one-sided rule of the approximation order of $O(h^2)$.\n",
        "    \n",
        "    Parameters\n",
        "    ----------\n",
        "    f : callable\n",
        "        The function to differentiate\n",
        "    x : float\n",
        "        The point to compute the derivative at.\n",
        "    h : float\n",
        "        The step size for the finite different rule.\n",
        "        \n",
        "    Returns\n",
        "    -------\n",
        "    fder : derivative of f(x) at point x using the step size h.\n",
        "    \"\"\"\n",
        "    f_d = lambda q: (f(x+q*h)-f(x))/(q*h)\n",
        "    \n",
        "    return 2*f_d(0.5) - f_d(1)"
      ]
    },
    {
      "cell_type": "markdown",
      "metadata": {
        "id": "TpEI1_7CoIf2"
      },
      "source": [
        "#### Test I.1\n",
        "\n",
        "Test your function on a simple test case: differentiate $f(x) = x^3$ at $x=0$. Comment on whether your results are consistent with the expected value of $f'(x) = 0$ and on an expected scaling with $h\\to 0$.\n",
        "\n",
        " (10% of the total grade)"
      ]
    },
    {
      "cell_type": "code",
      "execution_count": null,
      "metadata": {
        "colab": {
          "base_uri": "https://localhost:8080/"
        },
        "id": "1NGq-7OxoIf4",
        "outputId": "fc37fa6f-cc77-4a92-9f4a-1ecf90d85845"
      },
      "outputs": [
        {
          "output_type": "stream",
          "name": "stdout",
          "text": [
            "0.010000 --  -5e-05\n",
            "0.001000 --  -5e-07\n",
            "0.000100 --  -5e-09\n",
            "0.000010 --  -5e-11\n"
          ]
        }
      ],
      "source": [
        "x = 0\n",
        "for h in [1e-2, 1e-3, 1e-4, 1e-5]:\n",
        "    err = deriv(lambda x: x**3, x, h)\n",
        "    print(\"%5f -- %7.4g\" % (h, err))"
      ]
    },
    {
      "cell_type": "code",
      "source": [
        "x = 0\n",
        "for h in [1e-2, 1e-3, 1e-4, 1e-5]:\n",
        "    err = deriv(f, x, h) - fder(x)\n",
        "    print(\"%5f -- %7.4g\" % (h, err))"
      ],
      "metadata": {
        "colab": {
          "base_uri": "https://localhost:8080/"
        },
        "id": "RSvi3x_Brx8x",
        "outputId": "9db4573b-3968-401b-8081-61e72b55ffb0"
      },
      "execution_count": null,
      "outputs": [
        {
          "output_type": "stream",
          "name": "stdout",
          "text": [
            "0.010000 -- -0.006931\n",
            "0.001000 -- -0.0006931\n",
            "0.000100 -- -6.931e-05\n",
            "0.000010 -- -6.931e-06\n"
          ]
        }
      ]
    },
    {
      "cell_type": "markdown",
      "metadata": {
        "id": "-E8NrLbdoIf9"
      },
      "source": [
        "### Test I.2\n",
        "\n",
        "Now use a slightly more complicated function, $f(x) = x^2 \\log{x}$, evaluate the derivative at $x=1$ using your one-sided rule and a two-point one-sided rule. Roughly estimate the value of $h$ where the error stops decreasing, for these two schemes. \n",
        "(15% of the total grade)"
      ]
    },
    {
      "cell_type": "code",
      "execution_count": null,
      "metadata": {
        "collapsed": true,
        "id": "1ZHCAQOAoIf_"
      },
      "outputs": [],
      "source": [
        "from math import log\n",
        "\n",
        "def f(x):\n",
        "    return x**2 * log(x)\n",
        "    \n",
        "def fder(x):\n",
        "    return x * (2.*log(x) + 1)"
      ]
    },
    {
      "cell_type": "code",
      "execution_count": null,
      "metadata": {
        "colab": {
          "base_uri": "https://localhost:8080/",
          "height": 761
        },
        "id": "vl0ICuGSoIgD",
        "outputId": "113f4e15-5e88-4ee7-e062-387d6695e764"
      },
      "outputs": [
        {
          "output_type": "display_data",
          "data": {
            "text/plain": [
              "<Figure size 432x288 with 1 Axes>"
            ],
            "image/png": "[encoded data removed]"
          },
          "metadata": {
            "needs_background": "light"
          }
        },
        {
          "output_type": "display_data",
          "data": {
            "text/plain": [
              "<Figure size 432x288 with 1 Axes>"
            ],
            "image/png": "[encoded data removed]"
          },
          "metadata": {
            "needs_background": "light"
          }
        },
        {
          "output_type": "display_data",
          "data": {
            "text/plain": [
              "<Figure size 432x288 with 1 Axes>"
            ],
            "image/png": "[encoded data removed]"
          },
          "metadata": {
            "needs_background": "light"
          }
        }
      ],
      "source": [
        "import matplotlib.pyplot as plt\n",
        "\n",
        "def two_point_deriv(f, x, h):\n",
        "  x1 = x + h\n",
        "  dx = x1 - x\n",
        "  df = f(x1) - f(x)\n",
        "  return df/dx\n",
        "\n",
        "comp_one_side = []\n",
        "comp_two_points = []\n",
        "\n",
        "for i in range(1,15,1):\n",
        "  comp_one_side.append(fder(1) - deriv(f, 1, 10**(-1*i)))\n",
        "  comp_two_points.append(fder(1) - two_point_deriv(f, 1, 10**(-1*i)))\n",
        "\n",
        "plt.plot(list(range(1, 15)), comp_two_points)\n",
        "plt.legend(labels = [\"two point one-sided rule\"])\n",
        "plt.show()\n",
        "\n",
        "plt.plot(list(range(1, 15)), comp_one_side)\n",
        "plt.legend(labels = [\"one-sided rule\"])\n",
        "plt.show()\n",
        "\n",
        "plt.plot(list(range(1, 15)), comp_one_side)\n",
        "plt.plot(list(range(1, 15)), comp_two_points)\n",
        "plt.legend(labels = [\"one-sided rule\",\"two point one-sided rule\"])\n",
        "plt.show()"
      ]
    },
    {
      "cell_type": "markdown",
      "metadata": {
        "id": "PBQAlhzioIgF"
      },
      "source": [
        "### Test I.3 \n",
        "\n",
        "Now try differentiating $x^2 \\log(x)$ at $x=0$. Use the three-point one-sided rule. Note that to evaluate the function at zero, you need to special-case this value. Check the scaling of the error with $h$, explain your results. \n",
        "(25% of the total grade)"
      ]
    },
    {
      "cell_type": "code",
      "execution_count": null,
      "metadata": {
        "colab": {
          "base_uri": "https://localhost:8080/"
        },
        "id": "VW5u5xwKoIgH",
        "outputId": "9547aa00-83ba-4771-dd66-d4a1c2af585e"
      },
      "outputs": [
        {
          "output_type": "stream",
          "name": "stdout",
          "text": [
            "0.010000 -- -0.006931\n",
            "0.001000 -- -0.0006931\n",
            "0.000100 -- -6.931e-05\n",
            "0.000010 -- -6.931e-06\n"
          ]
        }
      ],
      "source": [
        "def f(x):\n",
        "    if x == 0:\n",
        "        # the limit of $x^2 log(x)$ at $x-> 0$ is zero, even though log(x) is undefined at x=0\n",
        "        return 0.0\n",
        "    else:\n",
        "        return x**2 * log(x)\n",
        "    \n",
        "def fder(x):\n",
        "    if x == 0:\n",
        "        return 0.0\n",
        "    else:\n",
        "        return x*(2*log(x) + 1)\n",
        "\n",
        "x = 0\n",
        "for h in [1e-2, 1e-3, 1e-4, 1e-5]:\n",
        "    err = deriv(f, x, h) - fder(x)\n",
        "    print(\"%5f -- %7.4g\" % (h, err))"
      ]
    },
    {
      "cell_type": "markdown",
      "metadata": {
        "id": "stmhv489oIgI"
      },
      "source": [
        "... ENTER YOUR EXPLANATION HERE ..."
      ]
    },
    {
      "cell_type": "markdown",
      "metadata": {
        "id": "5iMwIcQ4oIgJ"
      },
      "source": [
        "# Part II. Midpoint rule "
      ]
    },
    {
      "cell_type": "markdown",
      "metadata": {
        "id": "8jq7S8p4oIgK"
      },
      "source": [
        "Write a function which computes a definite integral using the midpoint rule up to a given error, $\\epsilon$. Estimate the error by comparing the estimates of the integral at $N$ and $2N$ elementary intervals. "
      ]
    },
    {
      "cell_type": "code",
      "execution_count": null,
      "metadata": {
        "collapsed": true,
        "id": "N3RdaMejoIgL"
      },
      "outputs": [],
      "source": [
        "def midpoint_rule(func, a, b, eps):\n",
        "    \"\"\" Calculate the integral of f from a to b using the midpoint rule.\n",
        "    \n",
        "    Parameters\n",
        "    ----------\n",
        "    func : callable\n",
        "        The function to integrate.\n",
        "    a : float\n",
        "        The lower limit of integration.\n",
        "    b : float\n",
        "        The upper limit of integration.\n",
        "    eps : float\n",
        "        The target accuracy of the estimate.\n",
        "        \n",
        "    Returns\n",
        "    -------\n",
        "    integral : float\n",
        "        The estimate of $\\int_a^b f(x) dx$.\n",
        "    \"\"\"\n",
        "    N = 5\n",
        "    delta = eps + 1\n",
        "    i = 10**30\n",
        "    \n",
        "    while delta > eps and N < 10**5:\n",
        "        \n",
        "        h = (b - a)/N\n",
        "        integral = 0\n",
        "\n",
        "        for k in range(1, N+1):\n",
        "            integral += func(h*k-h/2.0)*h\n",
        "        \n",
        "        delta = abs(i - integral)\n",
        "        i = integral\n",
        "        N *= 2\n",
        "        \n",
        "    return i, N/2"
      ]
    },
    {
      "cell_type": "markdown",
      "metadata": {
        "id": "qAqPj0zeoIgO"
      },
      "source": [
        "### Test II.1\n",
        "\n",
        "Test your midpoint rule on a simple integral, which you can calculate by paper and pencil.\n",
        "\n",
        "Compare the rate of convergence to the expected $O(N^{-2})$ scaling by studying the number of intervals required for a given accuracy $\\epsilon$.\n",
        "\n",
        "Compare the numerical results to the value you calculated by hand. Does the deviation agree with your estimate of the numerical error?\n",
        "(20% of the total grade)\n"
      ]
    },
    {
      "cell_type": "code",
      "source": [
        "for h in [1e-2, 1e-6, 1e-8, 1e-10]:\n",
        "    resp = midpoint_rule(lambda x: x**2, 0, 1, h)\n",
        "    print(\"h =\", h, \"\\t error =\", resp[0]-1.0/3.0, \"\\t i =\", resp[1])"
      ],
      "metadata": {
        "colab": {
          "base_uri": "https://localhost:8080/"
        },
        "id": "FH0KXUf8rGDt",
        "outputId": "ee945001-43f7-4823-d04e-5db97e878ddd"
      },
      "execution_count": null,
      "outputs": [
        {
          "output_type": "stream",
          "name": "stdout",
          "text": [
            "h = 0.01 \t error = -0.0008333333333332971 \t i = 10.0\n",
            "h = 1e-06 \t error = -2.034505208192705e-07 \t i = 640.0\n",
            "h = 1e-08 \t error = -3.1789141874405402e-09 \t i = 5120.0\n",
            "h = 1e-10 \t error = -1.2417677996978682e-11 \t i = 81920.0\n"
          ]
        }
      ]
    },
    {
      "cell_type": "markdown",
      "metadata": {
        "id": "goWCBdUJoIgR"
      },
      "source": [
        "### Test II.2\n",
        "\n",
        "Now use your midpoint rule to compute the value of\n",
        "\n",
        "$$\n",
        "\\int_0^1\\! \\frac{\\sin{\\sqrt{x}}}{x}\\, dx\n",
        "$$\n",
        "\n",
        "up to a predefined accuracy of $\\epsilon=10^{-4}$.\n",
        "\n",
        "Note that the integral contains an integrable singularity at the lower limit. Do calculations two ways: first, do a straightforward computation; next, subtract the singularity. Compare the number of iterations required to achieve the accuracy of $\\epsilon$.\n",
        "\n",
        "(30% of the total grade)"
      ]
    },
    {
      "cell_type": "code",
      "execution_count": null,
      "metadata": {
        "collapsed": true,
        "colab": {
          "base_uri": "https://localhost:8080/"
        },
        "id": "tWN01RN8oIgR",
        "outputId": "ef321f08-78c6-434e-e5cc-75ed05f3a55c"
      },
      "outputs": [
        {
          "output_type": "stream",
          "name": "stdout",
          "text": [
            "delta / h        --  (f_value - true integral)\n",
            "640.0 / 0.010000 -- -0.02391\n",
            "10.0 / 0.010000 -- -0.0002908\n",
            "81920.0 / 0.001000 -- -0.002113\n",
            "10.0 / 0.001000 -- -0.0002908\n",
            "81920.0 / 0.000100 -- -0.002113\n",
            "40.0 / 0.000100 -- -3.824e-05\n",
            "81920.0 / 0.000010 -- -0.002113\n",
            "160.0 / 0.000010 -- -4.898e-06\n"
          ]
        }
      ],
      "source": [
        "import numpy as np\n",
        "\n",
        "func = lambda x: np.sin(np.sqrt(x))/x\n",
        "modified_func = lambda x: (np.sqrt(x)*np.sin(np.sqrt(x))-x)/(x*np.sqrt(x))\n",
        "\n",
        "true_integral = 1.8921661407343660298827066\n",
        "\n",
        "print(\"delta / h        --  (f_value - true integral)\")\n",
        "for h in [1e-2, 1e-3, 1e-4, 1e-5]:\n",
        "    \n",
        "    delta = midpoint_rule(func, 0, 1, h)\n",
        "    print(str(delta[1]) + \" / %5f -- %7.4g\" % (h, delta[0]-true_integral))\n",
        "    \n",
        "    delta = midpoint_rule(modified_func, 0, 1, h)\n",
        "    print(str(delta[1]) + \" / %5f -- %7.4g\" % (h, delta[0]+2 - true_integral))"
      ]
    }
  ],
  "metadata": {
    "kernelspec": {
      "display_name": "Python 3",
      "language": "python",
      "name": "python3"
    },
    "language_info": {
      "codemirror_mode": {
        "name": "ipython",
        "version": 3
      },
      "file_extension": ".py",
      "mimetype": "text/x-python",
      "name": "python",
      "nbconvert_exporter": "python",
      "pygments_lexer": "ipython3",
      "version": "3.5.2"
    },
    "colab": {
      "name": " Group3AlgorithmicToolboxWeek6NumericalCalculusDerivativesIntegrals.ipynb ",
      "provenance": [],
      "collapsed_sections": [],
      "include_colab_link": true
    }
  },
  "nbformat": 4,
  "nbformat_minor": 0
}